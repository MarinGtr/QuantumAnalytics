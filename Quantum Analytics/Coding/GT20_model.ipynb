{
 "cells": [
  {
   "cell_type": "code",
   "execution_count": 9,
   "id": "34cde444",
   "metadata": {},
   "outputs": [],
   "source": [
    "import pandas as pd \n",
    "import seaborn as sns \n",
    "import numpy as np\n",
    "import matplotlib.pyplot as plt\n",
    "from scipy.optimize import minimize"
   ]
  },
  {
   "cell_type": "code",
   "execution_count": 26,
   "id": "593dff3d",
   "metadata": {},
   "outputs": [
    {
     "data": {
      "text/html": [
       "<div>\n",
       "<style scoped>\n",
       "    .dataframe tbody tr th:only-of-type {\n",
       "        vertical-align: middle;\n",
       "    }\n",
       "\n",
       "    .dataframe tbody tr th {\n",
       "        vertical-align: top;\n",
       "    }\n",
       "\n",
       "    .dataframe thead th {\n",
       "        text-align: right;\n",
       "    }\n",
       "</style>\n",
       "<table border=\"1\" class=\"dataframe\">\n",
       "  <thead>\n",
       "    <tr style=\"text-align: right;\">\n",
       "      <th></th>\n",
       "      <th>distance</th>\n",
       "      <th>altitude</th>\n",
       "    </tr>\n",
       "  </thead>\n",
       "  <tbody>\n",
       "    <tr>\n",
       "      <th>0</th>\n",
       "      <td>0</td>\n",
       "      <td>9,5</td>\n",
       "    </tr>\n",
       "    <tr>\n",
       "      <th>1</th>\n",
       "      <td>85</td>\n",
       "      <td>9,3</td>\n",
       "    </tr>\n",
       "    <tr>\n",
       "      <th>2</th>\n",
       "      <td>171</td>\n",
       "      <td>9</td>\n",
       "    </tr>\n",
       "    <tr>\n",
       "      <th>3</th>\n",
       "      <td>193</td>\n",
       "      <td>8,8</td>\n",
       "    </tr>\n",
       "    <tr>\n",
       "      <th>4</th>\n",
       "      <td>208</td>\n",
       "      <td>8,5</td>\n",
       "    </tr>\n",
       "    <tr>\n",
       "      <th>...</th>\n",
       "      <td>...</td>\n",
       "      <td>...</td>\n",
       "    </tr>\n",
       "    <tr>\n",
       "      <th>15946</th>\n",
       "      <td>593055</td>\n",
       "      <td>12,2</td>\n",
       "    </tr>\n",
       "    <tr>\n",
       "      <th>15947</th>\n",
       "      <td>593070</td>\n",
       "      <td>11,3</td>\n",
       "    </tr>\n",
       "    <tr>\n",
       "      <th>15948</th>\n",
       "      <td>593092</td>\n",
       "      <td>10,5</td>\n",
       "    </tr>\n",
       "    <tr>\n",
       "      <th>15949</th>\n",
       "      <td>593106</td>\n",
       "      <td>10,2</td>\n",
       "    </tr>\n",
       "    <tr>\n",
       "      <th>15950</th>\n",
       "      <td>593136</td>\n",
       "      <td>9,8</td>\n",
       "    </tr>\n",
       "  </tbody>\n",
       "</table>\n",
       "<p>15951 rows × 2 columns</p>\n",
       "</div>"
      ],
      "text/plain": [
       "       distance altitude\n",
       "0             0      9,5\n",
       "1            85      9,3\n",
       "2           171        9\n",
       "3           193      8,8\n",
       "4           208      8,5\n",
       "...         ...      ...\n",
       "15946    593055     12,2\n",
       "15947    593070     11,3\n",
       "15948    593092     10,5\n",
       "15949    593106     10,2\n",
       "15950    593136      9,8\n",
       "\n",
       "[15951 rows x 2 columns]"
      ]
     },
     "execution_count": 26,
     "metadata": {},
     "output_type": "execute_result"
    }
   ],
   "source": [
    "df = pd.read_csv(\"profilGT20.csv\",sep=\";\")\n",
    "df"
   ]
  },
  {
   "cell_type": "code",
   "execution_count": 27,
   "id": "f7eca263",
   "metadata": {},
   "outputs": [
    {
     "data": {
      "text/html": [
       "<div>\n",
       "<style scoped>\n",
       "    .dataframe tbody tr th:only-of-type {\n",
       "        vertical-align: middle;\n",
       "    }\n",
       "\n",
       "    .dataframe tbody tr th {\n",
       "        vertical-align: top;\n",
       "    }\n",
       "\n",
       "    .dataframe thead th {\n",
       "        text-align: right;\n",
       "    }\n",
       "</style>\n",
       "<table border=\"1\" class=\"dataframe\">\n",
       "  <thead>\n",
       "    <tr style=\"text-align: right;\">\n",
       "      <th></th>\n",
       "      <th>distance</th>\n",
       "      <th>altitude</th>\n",
       "      <th>slope</th>\n",
       "    </tr>\n",
       "  </thead>\n",
       "  <tbody>\n",
       "    <tr>\n",
       "      <th>0</th>\n",
       "      <td>0</td>\n",
       "      <td>9.5</td>\n",
       "      <td>-0.002353</td>\n",
       "    </tr>\n",
       "    <tr>\n",
       "      <th>1</th>\n",
       "      <td>85</td>\n",
       "      <td>9.3</td>\n",
       "      <td>-0.003488</td>\n",
       "    </tr>\n",
       "    <tr>\n",
       "      <th>2</th>\n",
       "      <td>171</td>\n",
       "      <td>9.0</td>\n",
       "      <td>-0.009091</td>\n",
       "    </tr>\n",
       "    <tr>\n",
       "      <th>3</th>\n",
       "      <td>193</td>\n",
       "      <td>8.8</td>\n",
       "      <td>-0.020000</td>\n",
       "    </tr>\n",
       "    <tr>\n",
       "      <th>4</th>\n",
       "      <td>208</td>\n",
       "      <td>8.5</td>\n",
       "      <td>-0.037500</td>\n",
       "    </tr>\n",
       "    <tr>\n",
       "      <th>...</th>\n",
       "      <td>...</td>\n",
       "      <td>...</td>\n",
       "      <td>...</td>\n",
       "    </tr>\n",
       "    <tr>\n",
       "      <th>15946</th>\n",
       "      <td>593055</td>\n",
       "      <td>12.2</td>\n",
       "      <td>-0.060000</td>\n",
       "    </tr>\n",
       "    <tr>\n",
       "      <th>15947</th>\n",
       "      <td>593070</td>\n",
       "      <td>11.3</td>\n",
       "      <td>-0.036364</td>\n",
       "    </tr>\n",
       "    <tr>\n",
       "      <th>15948</th>\n",
       "      <td>593092</td>\n",
       "      <td>10.5</td>\n",
       "      <td>-0.021429</td>\n",
       "    </tr>\n",
       "    <tr>\n",
       "      <th>15949</th>\n",
       "      <td>593106</td>\n",
       "      <td>10.2</td>\n",
       "      <td>-0.013333</td>\n",
       "    </tr>\n",
       "    <tr>\n",
       "      <th>15950</th>\n",
       "      <td>593136</td>\n",
       "      <td>9.8</td>\n",
       "      <td>NaN</td>\n",
       "    </tr>\n",
       "  </tbody>\n",
       "</table>\n",
       "<p>15951 rows × 3 columns</p>\n",
       "</div>"
      ],
      "text/plain": [
       "       distance  altitude     slope\n",
       "0             0       9.5 -0.002353\n",
       "1            85       9.3 -0.003488\n",
       "2           171       9.0 -0.009091\n",
       "3           193       8.8 -0.020000\n",
       "4           208       8.5 -0.037500\n",
       "...         ...       ...       ...\n",
       "15946    593055      12.2 -0.060000\n",
       "15947    593070      11.3 -0.036364\n",
       "15948    593092      10.5 -0.021429\n",
       "15949    593106      10.2 -0.013333\n",
       "15950    593136       9.8       NaN\n",
       "\n",
       "[15951 rows x 3 columns]"
      ]
     },
     "execution_count": 27,
     "metadata": {},
     "output_type": "execute_result"
    }
   ],
   "source": [
    "#df = df.rename(columns={\"0\": \"distance\", \"9.5\": \"altitude\"})\n",
    "df['altitude'] = pd.to_numeric(df['altitude'].str.replace(',', '.'), errors='coerce')\n",
    "df[\"slope\"] = (df[\"altitude\"].diff()/df['distance'].diff()).shift(-1)\n",
    "df"
   ]
  },
  {
   "cell_type": "markdown",
   "id": "43ecd5db",
   "metadata": {},
   "source": [
    "## Data"
   ]
  },
  {
   "cell_type": "code",
   "execution_count": 28,
   "id": "9862674c",
   "metadata": {},
   "outputs": [],
   "source": [
    "g    = 9.81\n",
    "rho  = 1.23\n",
    "Crr  = 0.0025\n",
    "CdA  = 0.33\n",
    "loss = 0.02\n",
    "wind = 0\n",
    "M    = 72\n",
    "m    = 8\n",
    "\n",
    "plotOption = False"
   ]
  },
  {
   "cell_type": "code",
   "execution_count": 29,
   "id": "8c8b0635",
   "metadata": {},
   "outputs": [],
   "source": [
    "def get_gravity(slope,M):\n",
    "    return (M+m)*g*np.sin(np.arctan(slope))\n",
    "\n",
    "def get_rolling(slope,Crr):\n",
    "    return (M+m)*g*np.cos(np.arctan(slope))*Crr\n",
    "\n",
    "def get_aero(slope,CdA,v,wind):\n",
    "    return 0.5*CdA*rho*((v+wind)/3.6)**2\n",
    "\n"
   ]
  },
  {
   "cell_type": "code",
   "execution_count": 30,
   "id": "f7e7108d",
   "metadata": {},
   "outputs": [],
   "source": [
    "def get_P_from_v(v, slope, M, Crr, CdA, wind, loss):\n",
    "    gravity = get_gravity(slope,M)\n",
    "    rolling = get_rolling(slope,Crr)\n",
    "    aero    = get_aero(slope,CdA,v,wind)\n",
    "    forces  = gravity + rolling + aero\n",
    "    \n",
    "    if plotOption == True:\n",
    "        print('Gravity Power = ', np.round(gravity*v/3.6,2))\n",
    "        print('Rolling Power = ', np.round(rolling*v/3.6,2))\n",
    "        print('Aero Power = ', np.round(aero*v/3.6,2))\n",
    "\n",
    "    return forces*v/3.6*(1/(1-loss))\n",
    "\n",
    "def get_P_ratio_from_v(v, slope, M, Crr, CdA, wind, loss):\n",
    "    forces =(gravity(slope,M) + rolling(slope,Crr) + aero(slope,CdA,v,wind))\n",
    "    return forces*v/3.6*(1/(1-loss))/M"
   ]
  },
  {
   "cell_type": "code",
   "execution_count": 31,
   "id": "dd84f8b9",
   "metadata": {
    "scrolled": true
   },
   "outputs": [
    {
     "data": {
      "text/plain": [
       "469.7648287963007"
      ]
     },
     "execution_count": 31,
     "metadata": {},
     "output_type": "execute_result"
    }
   ],
   "source": [
    "get_P_from_v(30,0.05,M,Crr, CdA, wind, loss)"
   ]
  },
  {
   "cell_type": "markdown",
   "id": "37643ba8",
   "metadata": {},
   "source": [
    "# Simulation of the Speed"
   ]
  },
  {
   "cell_type": "code",
   "execution_count": 32,
   "id": "127caf29",
   "metadata": {},
   "outputs": [],
   "source": [
    "def get_poly_function(x_array,y_array,degree):\n",
    "    coefficients = np.polyfit(slope_array, speed_array, degree)\n",
    "    poly_function = np.poly1d(coefficients)\n",
    "    return poly_function"
   ]
  },
  {
   "cell_type": "code",
   "execution_count": 33,
   "id": "2e94d1d5",
   "metadata": {},
   "outputs": [],
   "source": [
    "slope_array = [-0.1,0,0.05,0.1,0.15,0.34]\n",
    "speed_array = [50,34,21,16,9,6]\n",
    "degree = 2"
   ]
  },
  {
   "cell_type": "code",
   "execution_count": 34,
   "id": "d2334ae2",
   "metadata": {},
   "outputs": [],
   "source": [
    "#slope_array = [-0.1,0,0.05,0.1,0.15,0.34]\n",
    "#speed_array = [50,34,23,17,10,5]\n",
    "\n",
    "slope_array = [-0.1,0,0.05,0.1,0.15,0.20,.34]\n",
    "speed_array = [50,34,21,16,9,8,5]\n",
    "\n",
    "degree = 2"
   ]
  },
  {
   "cell_type": "code",
   "execution_count": 35,
   "id": "1515ddb0",
   "metadata": {},
   "outputs": [],
   "source": [
    "def from_slope_get_v(slope):\n",
    "    poly_function = get_poly_function(slope_array,speed_array,degree)\n",
    "    if slope < -0.1:\n",
    "        v = 50\n",
    "    else:\n",
    "        v = poly_function(slope)\n",
    "    return v\n"
   ]
  },
  {
   "cell_type": "code",
   "execution_count": 37,
   "id": "f66b9c92",
   "metadata": {},
   "outputs": [
    {
     "name": "stdout",
     "output_type": "stream",
     "text": [
      "Veuillez saisir votre nom : Marin\n",
      "Bonjour, Marin ! Bienvenue dans notre programme.\n"
     ]
    }
   ],
   "source": [
    "def message_utilisateur():\n",
    "    # Demande à l'utilisateur de saisir son nom\n",
    "    nom_utilisateur = input(\"Veuillez saisir votre nom : \")\n",
    "\n",
    "    # Affiche un message de salutation avec le nom de l'utilisateur\n",
    "    message = f\"Bonjour, {nom_utilisateur} ! Bienvenue dans notre programme.\"\n",
    "    print(message)\n",
    "\n",
    "# Appelle la fonction pour exécuter le code\n",
    "message_utilisateur()\n"
   ]
  },
  {
   "cell_type": "code",
   "execution_count": 39,
   "id": "63f128b9",
   "metadata": {},
   "outputs": [],
   "source": [
    "slopes = np.arange(-0.2,0.34,0.01)\n",
    "speed = [from_slope_get_v(slope) for slope in slopes]"
   ]
  },
  {
   "cell_type": "code",
   "execution_count": 40,
   "id": "865798f6",
   "metadata": {},
   "outputs": [
    {
     "data": {
      "image/png": "[encoded data removed]",
      "text/plain": [
       "<Figure size 640x480 with 1 Axes>"
      ]
     },
     "metadata": {},
     "output_type": "display_data"
    }
   ],
   "source": [
    "import matplotlib.pyplot as plt\n",
    "\n",
    "plt.scatter(slopes, speed, label='Data Points')\n",
    "plt.plot(slopes, speed, label='Fitted Polynomial', color='red')\n",
    "plt.legend()\n",
    "plt.grid()\n",
    "plt.xlabel('Slope')\n",
    "plt.ylabel('Speed')\n",
    "plt.title('Speed as a function of the Slope')\n",
    "plt.show()"
   ]
  },
  {
   "cell_type": "code",
   "execution_count": 41,
   "id": "70b92260",
   "metadata": {},
   "outputs": [
    {
     "data": {
      "text/html": [
       "<div>\n",
       "<style scoped>\n",
       "    .dataframe tbody tr th:only-of-type {\n",
       "        vertical-align: middle;\n",
       "    }\n",
       "\n",
       "    .dataframe tbody tr th {\n",
       "        vertical-align: top;\n",
       "    }\n",
       "\n",
       "    .dataframe thead th {\n",
       "        text-align: right;\n",
       "    }\n",
       "</style>\n",
       "<table border=\"1\" class=\"dataframe\">\n",
       "  <thead>\n",
       "    <tr style=\"text-align: right;\">\n",
       "      <th></th>\n",
       "      <th>distance</th>\n",
       "      <th>altitude</th>\n",
       "      <th>slope</th>\n",
       "    </tr>\n",
       "  </thead>\n",
       "  <tbody>\n",
       "    <tr>\n",
       "      <th>0</th>\n",
       "      <td>0</td>\n",
       "      <td>9.5</td>\n",
       "      <td>-0.002353</td>\n",
       "    </tr>\n",
       "    <tr>\n",
       "      <th>1</th>\n",
       "      <td>85</td>\n",
       "      <td>9.3</td>\n",
       "      <td>-0.003488</td>\n",
       "    </tr>\n",
       "    <tr>\n",
       "      <th>2</th>\n",
       "      <td>171</td>\n",
       "      <td>9.0</td>\n",
       "      <td>-0.009091</td>\n",
       "    </tr>\n",
       "    <tr>\n",
       "      <th>3</th>\n",
       "      <td>193</td>\n",
       "      <td>8.8</td>\n",
       "      <td>-0.020000</td>\n",
       "    </tr>\n",
       "    <tr>\n",
       "      <th>4</th>\n",
       "      <td>208</td>\n",
       "      <td>8.5</td>\n",
       "      <td>-0.037500</td>\n",
       "    </tr>\n",
       "  </tbody>\n",
       "</table>\n",
       "</div>"
      ],
      "text/plain": [
       "   distance  altitude     slope\n",
       "0         0       9.5 -0.002353\n",
       "1        85       9.3 -0.003488\n",
       "2       171       9.0 -0.009091\n",
       "3       193       8.8 -0.020000\n",
       "4       208       8.5 -0.037500"
      ]
     },
     "execution_count": 41,
     "metadata": {},
     "output_type": "execute_result"
    }
   ],
   "source": [
    "df.head()"
   ]
  },
  {
   "cell_type": "markdown",
   "id": "47ef1ac5",
   "metadata": {},
   "source": [
    "## Get the Average Power"
   ]
  },
  {
   "cell_type": "code",
   "execution_count": 42,
   "id": "1701524d",
   "metadata": {},
   "outputs": [],
   "source": [
    "df['Speed']  = df['slope'].apply(from_slope_get_v)\n",
    "df['dist'] = df['distance'].diff().shift(-1)\n",
    "df['deltaT'] = (df['dist']*3.6)/df['Speed']\n",
    "df['Power']  = df.apply(lambda x: get_P_from_v(x.Speed,x.slope,M,Crr, CdA, wind, loss), axis = 1)\n",
    "df['Power']  = np.maximum(0,df['Power'])\n",
    "df['Energy'] = df['deltaT']*df['Power']"
   ]
  },
  {
   "cell_type": "code",
   "execution_count": 43,
   "id": "91ddfd2b",
   "metadata": {},
   "outputs": [
    {
     "name": "stdout",
     "output_type": "stream",
     "text": [
      "Avg_Watts =  175.56012697808615\n",
      "Tot_time =  20.346821676556473\n"
     ]
    }
   ],
   "source": [
    "avg_power = (df.Power*df.deltaT).sum()/df.deltaT.sum()\n",
    "tot_time  = df.deltaT.sum()\n",
    "print('Avg_Watts = ',avg_power)\n",
    "print('Tot_time = ',tot_time/3600)"
   ]
  },
  {
   "cell_type": "markdown",
   "id": "5704633a",
   "metadata": {},
   "source": [
    "#### Get the Power as function of Slope"
   ]
  },
  {
   "cell_type": "code",
   "execution_count": 44,
   "id": "2b335a64",
   "metadata": {},
   "outputs": [
    {
     "data": {
      "text/plain": [
       "<Axes: xlabel='approx_slope'>"
      ]
     },
     "execution_count": 44,
     "metadata": {},
     "output_type": "execute_result"
    },
    {
     "data": {
      "image/png": "[encoded data removed]",
      "text/plain": [
       "<Figure size 640x480 with 1 Axes>"
      ]
     },
     "metadata": {},
     "output_type": "display_data"
    }
   ],
   "source": [
    "df['approx_slope'] = np.round(df['slope'],2)\n",
    "reduced_df = df[['approx_slope','Power']].groupby('approx_slope').mean()\n",
    "reduced_df.plot()"
   ]
  },
  {
   "cell_type": "markdown",
   "id": "9ec54eb5",
   "metadata": {},
   "source": [
    "## Analysis of the extreme slopes"
   ]
  },
  {
   "cell_type": "code",
   "execution_count": 45,
   "id": "f8435b66",
   "metadata": {},
   "outputs": [
    {
     "data": {
      "image/png": "[encoded data removed]",
      "text/plain": [
       "<Figure size 640x480 with 1 Axes>"
      ]
     },
     "metadata": {},
     "output_type": "display_data"
    }
   ],
   "source": [
    "df.loc[np.abs(df['slope'])>0.2]['slope'].plot(kind='hist', bins=25, edgecolor='k')\n",
    "plt.xlabel('Slope')\n",
    "plt.ylabel('Frequency')\n",
    "plt.title('Slope Distribution')\n",
    "plt.show()"
   ]
  },
  {
   "cell_type": "code",
   "execution_count": 46,
   "id": "0ec42a4c",
   "metadata": {},
   "outputs": [
    {
     "data": {
      "text/html": [
       "<div>\n",
       "<style scoped>\n",
       "    .dataframe tbody tr th:only-of-type {\n",
       "        vertical-align: middle;\n",
       "    }\n",
       "\n",
       "    .dataframe tbody tr th {\n",
       "        vertical-align: top;\n",
       "    }\n",
       "\n",
       "    .dataframe thead th {\n",
       "        text-align: right;\n",
       "    }\n",
       "</style>\n",
       "<table border=\"1\" class=\"dataframe\">\n",
       "  <thead>\n",
       "    <tr style=\"text-align: right;\">\n",
       "      <th></th>\n",
       "      <th>distance</th>\n",
       "      <th>altitude</th>\n",
       "      <th>slope</th>\n",
       "      <th>Speed</th>\n",
       "      <th>dist</th>\n",
       "      <th>deltaT</th>\n",
       "      <th>Power</th>\n",
       "      <th>Energy</th>\n",
       "      <th>approx_slope</th>\n",
       "    </tr>\n",
       "  </thead>\n",
       "  <tbody>\n",
       "    <tr>\n",
       "      <th>1375</th>\n",
       "      <td>48452</td>\n",
       "      <td>341.2</td>\n",
       "      <td>-0.258333</td>\n",
       "      <td>50.000000</td>\n",
       "      <td>12.0</td>\n",
       "      <td>0.864000</td>\n",
       "      <td>0.000000</td>\n",
       "      <td>0.000000</td>\n",
       "      <td>-0.26</td>\n",
       "    </tr>\n",
       "    <tr>\n",
       "      <th>1388</th>\n",
       "      <td>49017</td>\n",
       "      <td>309.6</td>\n",
       "      <td>-0.200000</td>\n",
       "      <td>50.000000</td>\n",
       "      <td>11.0</td>\n",
       "      <td>0.792000</td>\n",
       "      <td>0.000000</td>\n",
       "      <td>0.000000</td>\n",
       "      <td>-0.20</td>\n",
       "    </tr>\n",
       "    <tr>\n",
       "      <th>1481</th>\n",
       "      <td>52012</td>\n",
       "      <td>170.2</td>\n",
       "      <td>-0.260000</td>\n",
       "      <td>50.000000</td>\n",
       "      <td>10.0</td>\n",
       "      <td>0.720000</td>\n",
       "      <td>0.000000</td>\n",
       "      <td>0.000000</td>\n",
       "      <td>-0.26</td>\n",
       "    </tr>\n",
       "    <tr>\n",
       "      <th>1674</th>\n",
       "      <td>57561</td>\n",
       "      <td>104.1</td>\n",
       "      <td>0.209091</td>\n",
       "      <td>6.673995</td>\n",
       "      <td>11.0</td>\n",
       "      <td>5.933477</td>\n",
       "      <td>308.802808</td>\n",
       "      <td>1832.274444</td>\n",
       "      <td>0.21</td>\n",
       "    </tr>\n",
       "    <tr>\n",
       "      <th>1734</th>\n",
       "      <td>59265</td>\n",
       "      <td>183.8</td>\n",
       "      <td>0.209091</td>\n",
       "      <td>6.673995</td>\n",
       "      <td>11.0</td>\n",
       "      <td>5.933477</td>\n",
       "      <td>308.802808</td>\n",
       "      <td>1832.274444</td>\n",
       "      <td>0.21</td>\n",
       "    </tr>\n",
       "  </tbody>\n",
       "</table>\n",
       "</div>"
      ],
      "text/plain": [
       "      distance  altitude     slope      Speed  dist    deltaT       Power  \\\n",
       "1375     48452     341.2 -0.258333  50.000000  12.0  0.864000    0.000000   \n",
       "1388     49017     309.6 -0.200000  50.000000  11.0  0.792000    0.000000   \n",
       "1481     52012     170.2 -0.260000  50.000000  10.0  0.720000    0.000000   \n",
       "1674     57561     104.1  0.209091   6.673995  11.0  5.933477  308.802808   \n",
       "1734     59265     183.8  0.209091   6.673995  11.0  5.933477  308.802808   \n",
       "\n",
       "           Energy  approx_slope  \n",
       "1375     0.000000         -0.26  \n",
       "1388     0.000000         -0.20  \n",
       "1481     0.000000         -0.26  \n",
       "1674  1832.274444          0.21  \n",
       "1734  1832.274444          0.21  "
      ]
     },
     "execution_count": 46,
     "metadata": {},
     "output_type": "execute_result"
    }
   ],
   "source": [
    "df.loc[np.abs(df['slope'])>0.2].head()"
   ]
  },
  {
   "cell_type": "markdown",
   "id": "cc097794",
   "metadata": {},
   "source": [
    "## Get normalized Power"
   ]
  },
  {
   "cell_type": "code",
   "execution_count": 47,
   "id": "e3dc2d1a",
   "metadata": {},
   "outputs": [],
   "source": [
    "def get_normalized_power(df, column = 'Power'):\n",
    "    return (np.mean(df[column].rolling(3).mean()**4))**(1/4)"
   ]
  },
  {
   "cell_type": "code",
   "execution_count": 48,
   "id": "a1efa362",
   "metadata": {},
   "outputs": [
    {
     "data": {
      "text/plain": [
       "241.13453419886142"
      ]
     },
     "execution_count": 48,
     "metadata": {},
     "output_type": "execute_result"
    }
   ],
   "source": [
    "get_normalized_power(df)"
   ]
  },
  {
   "cell_type": "markdown",
   "id": "7b766e11",
   "metadata": {},
   "source": [
    "# Optimization of the Energy"
   ]
  },
  {
   "cell_type": "code",
   "execution_count": 49,
   "id": "6bdc8779",
   "metadata": {},
   "outputs": [
    {
     "data": {
      "text/html": [
       "<div>\n",
       "<style scoped>\n",
       "    .dataframe tbody tr th:only-of-type {\n",
       "        vertical-align: middle;\n",
       "    }\n",
       "\n",
       "    .dataframe tbody tr th {\n",
       "        vertical-align: top;\n",
       "    }\n",
       "\n",
       "    .dataframe thead th {\n",
       "        text-align: right;\n",
       "    }\n",
       "</style>\n",
       "<table border=\"1\" class=\"dataframe\">\n",
       "  <thead>\n",
       "    <tr style=\"text-align: right;\">\n",
       "      <th></th>\n",
       "      <th>distance</th>\n",
       "      <th>altitude</th>\n",
       "      <th>slope</th>\n",
       "      <th>Speed</th>\n",
       "      <th>dist</th>\n",
       "      <th>deltaT</th>\n",
       "      <th>Power</th>\n",
       "      <th>Energy</th>\n",
       "      <th>approx_slope</th>\n",
       "    </tr>\n",
       "  </thead>\n",
       "  <tbody>\n",
       "    <tr>\n",
       "      <th>0</th>\n",
       "      <td>0</td>\n",
       "      <td>9.5</td>\n",
       "      <td>-0.002353</td>\n",
       "      <td>31.007454</td>\n",
       "      <td>85.0</td>\n",
       "      <td>9.868595</td>\n",
       "      <td>133.342978</td>\n",
       "      <td>1315.907806</td>\n",
       "      <td>-0.00</td>\n",
       "    </tr>\n",
       "    <tr>\n",
       "      <th>1</th>\n",
       "      <td>85</td>\n",
       "      <td>9.3</td>\n",
       "      <td>-0.003488</td>\n",
       "      <td>31.209185</td>\n",
       "      <td>86.0</td>\n",
       "      <td>9.920157</td>\n",
       "      <td>128.066524</td>\n",
       "      <td>1270.439975</td>\n",
       "      <td>-0.00</td>\n",
       "    </tr>\n",
       "    <tr>\n",
       "      <th>2</th>\n",
       "      <td>171</td>\n",
       "      <td>9.0</td>\n",
       "      <td>-0.009091</td>\n",
       "      <td>32.215693</td>\n",
       "      <td>22.0</td>\n",
       "      <td>2.458429</td>\n",
       "      <td>101.177410</td>\n",
       "      <td>248.737498</td>\n",
       "      <td>-0.01</td>\n",
       "    </tr>\n",
       "    <tr>\n",
       "      <th>3</th>\n",
       "      <td>193</td>\n",
       "      <td>8.8</td>\n",
       "      <td>-0.020000</td>\n",
       "      <td>34.228568</td>\n",
       "      <td>15.0</td>\n",
       "      <td>1.577630</td>\n",
       "      <td>44.780395</td>\n",
       "      <td>70.646875</td>\n",
       "      <td>-0.02</td>\n",
       "    </tr>\n",
       "    <tr>\n",
       "      <th>4</th>\n",
       "      <td>208</td>\n",
       "      <td>8.5</td>\n",
       "      <td>-0.037500</td>\n",
       "      <td>37.603924</td>\n",
       "      <td>16.0</td>\n",
       "      <td>1.531755</td>\n",
       "      <td>0.000000</td>\n",
       "      <td>0.000000</td>\n",
       "      <td>-0.04</td>\n",
       "    </tr>\n",
       "  </tbody>\n",
       "</table>\n",
       "</div>"
      ],
      "text/plain": [
       "   distance  altitude     slope      Speed  dist    deltaT       Power  \\\n",
       "0         0       9.5 -0.002353  31.007454  85.0  9.868595  133.342978   \n",
       "1        85       9.3 -0.003488  31.209185  86.0  9.920157  128.066524   \n",
       "2       171       9.0 -0.009091  32.215693  22.0  2.458429  101.177410   \n",
       "3       193       8.8 -0.020000  34.228568  15.0  1.577630   44.780395   \n",
       "4       208       8.5 -0.037500  37.603924  16.0  1.531755    0.000000   \n",
       "\n",
       "        Energy  approx_slope  \n",
       "0  1315.907806         -0.00  \n",
       "1  1270.439975         -0.00  \n",
       "2   248.737498         -0.01  \n",
       "3    70.646875         -0.02  \n",
       "4     0.000000         -0.04  "
      ]
     },
     "execution_count": 49,
     "metadata": {},
     "output_type": "execute_result"
    }
   ],
   "source": [
    "df.head()"
   ]
  },
  {
   "cell_type": "markdown",
   "id": "6125a045",
   "metadata": {},
   "source": [
    "# Step 1 : Simplify the profile"
   ]
  },
  {
   "cell_type": "code",
   "execution_count": 50,
   "id": "2a339d85",
   "metadata": {},
   "outputs": [
    {
     "data": {
      "text/html": [
       "<div>\n",
       "<style scoped>\n",
       "    .dataframe tbody tr th:only-of-type {\n",
       "        vertical-align: middle;\n",
       "    }\n",
       "\n",
       "    .dataframe tbody tr th {\n",
       "        vertical-align: top;\n",
       "    }\n",
       "\n",
       "    .dataframe thead th {\n",
       "        text-align: right;\n",
       "    }\n",
       "</style>\n",
       "<table border=\"1\" class=\"dataframe\">\n",
       "  <thead>\n",
       "    <tr style=\"text-align: right;\">\n",
       "      <th></th>\n",
       "      <th>dist</th>\n",
       "      <th>Energy</th>\n",
       "    </tr>\n",
       "    <tr>\n",
       "      <th>approx_slope</th>\n",
       "      <th></th>\n",
       "      <th></th>\n",
       "    </tr>\n",
       "  </thead>\n",
       "  <tbody>\n",
       "    <tr>\n",
       "      <th>-0.58</th>\n",
       "      <td>23.0</td>\n",
       "      <td>0.000000</td>\n",
       "    </tr>\n",
       "    <tr>\n",
       "      <th>-0.54</th>\n",
       "      <td>25.0</td>\n",
       "      <td>0.000000</td>\n",
       "    </tr>\n",
       "    <tr>\n",
       "      <th>-0.50</th>\n",
       "      <td>27.0</td>\n",
       "      <td>0.000000</td>\n",
       "    </tr>\n",
       "    <tr>\n",
       "      <th>-0.48</th>\n",
       "      <td>12.0</td>\n",
       "      <td>0.000000</td>\n",
       "    </tr>\n",
       "    <tr>\n",
       "      <th>-0.37</th>\n",
       "      <td>13.0</td>\n",
       "      <td>0.000000</td>\n",
       "    </tr>\n",
       "    <tr>\n",
       "      <th>...</th>\n",
       "      <td>...</td>\n",
       "      <td>...</td>\n",
       "    </tr>\n",
       "    <tr>\n",
       "      <th>0.27</th>\n",
       "      <td>10.0</td>\n",
       "      <td>2110.088756</td>\n",
       "    </tr>\n",
       "    <tr>\n",
       "      <th>0.28</th>\n",
       "      <td>10.0</td>\n",
       "      <td>2181.624491</td>\n",
       "    </tr>\n",
       "    <tr>\n",
       "      <th>0.32</th>\n",
       "      <td>11.0</td>\n",
       "      <td>2695.325894</td>\n",
       "    </tr>\n",
       "    <tr>\n",
       "      <th>0.33</th>\n",
       "      <td>12.0</td>\n",
       "      <td>2996.995303</td>\n",
       "    </tr>\n",
       "    <tr>\n",
       "      <th>0.35</th>\n",
       "      <td>11.0</td>\n",
       "      <td>2901.422874</td>\n",
       "    </tr>\n",
       "  </tbody>\n",
       "</table>\n",
       "<p>67 rows × 2 columns</p>\n",
       "</div>"
      ],
      "text/plain": [
       "              dist       Energy\n",
       "approx_slope                   \n",
       "-0.58         23.0     0.000000\n",
       "-0.54         25.0     0.000000\n",
       "-0.50         27.0     0.000000\n",
       "-0.48         12.0     0.000000\n",
       "-0.37         13.0     0.000000\n",
       "...            ...          ...\n",
       " 0.27         10.0  2110.088756\n",
       " 0.28         10.0  2181.624491\n",
       " 0.32         11.0  2695.325894\n",
       " 0.33         12.0  2996.995303\n",
       " 0.35         11.0  2901.422874\n",
       "\n",
       "[67 rows x 2 columns]"
      ]
     },
     "execution_count": 50,
     "metadata": {},
     "output_type": "execute_result"
    }
   ],
   "source": [
    "opti_df = df[['slope','dist','Energy']].copy()\n",
    "opti_df['approx_slope'] = np.round(opti_df['slope'],2)\n",
    "opti_df = opti_df[['approx_slope','dist','Energy']].groupby('approx_slope').sum()\n",
    "opti_df"
   ]
  },
  {
   "cell_type": "code",
   "execution_count": 51,
   "id": "f2cc6606",
   "metadata": {},
   "outputs": [],
   "source": [
    "distances = opti_df['dist']\n",
    "energies  = opti_df['Energy']\n",
    "slopes    = opti_df.index\n",
    "\n",
    "T_lim     = 20*3600\n",
    "N         = len(distances)"
   ]
  },
  {
   "cell_type": "code",
   "execution_count": 52,
   "id": "1b7a5903",
   "metadata": {},
   "outputs": [],
   "source": [
    "def from_energy_to_time(energy,slope,d):\n",
    "    numerator   = M+m+rho*CdA*d\n",
    "    denominator = (1-loss)*energy - (M+m)*g*d*(np.sin(slope)+Crr*np.cos(slope))\n",
    "    deltaT = d/np.sqrt(2) * (numerator/denominator)**0.5\n",
    "    return deltaT"
   ]
  },
  {
   "cell_type": "code",
   "execution_count": 53,
   "id": "960b842a",
   "metadata": {},
   "outputs": [
    {
     "name": "stdout",
     "output_type": "stream",
     "text": [
      "Optimized Variables (x): [      0.               0.               0.               0.\n",
      "       0.               0.               0.               0.\n",
      "       0.               0.               0.               0.\n",
      "       0.               0.               0.               0.\n",
      "       0.               0.               0.               0.\n",
      "       0.               0.               0.               0.\n",
      "       0.               0.               0.               0.\n",
      "       0.               0.               0.               0.\n",
      "       0.               0.           14409.30518524  237632.95110087\n",
      "  516613.84938266 1359922.80231851 1335436.93785568 1433583.35975009\n",
      " 1533357.71306286 1475918.40084776 1206865.09395425  946069.83271291\n",
      "  728878.00143018  536396.25767104  387773.87264145  319182.7170556\n",
      "  242736.06796158  155535.30482769  118869.74617062   78943.6236221\n",
      "   64961.11352184   38354.38816867   29607.50986024   24327.01360053\n",
      "   16200.77037032    9910.05625119   13625.15193793    7538.14885268\n",
      "    7045.47710687    6945.22515358    2110.08875603    2181.62449125\n",
      "    2695.32589384    2996.99530255    2901.42287364]\n",
      "Optimal Objective Value: 12859526.149692228\n"
     ]
    },
    {
     "name": "stderr",
     "output_type": "stream",
     "text": [
      "/var/folders/b5/2zd3m6xj67g_xrc_3g6294wh0000gn/T/ipykernel_25586/2408303615.py:4: RuntimeWarning: invalid value encountered in scalar power\n",
      "  deltaT = d/np.sqrt(2) * (numerator/denominator)**0.5\n"
     ]
    }
   ],
   "source": [
    "# Define the objective function to minimize (sum of variables x)\n",
    "def objective_function(x):\n",
    "    return np.sum(x)\n",
    "\n",
    "# Define the constraint function g(x) and its sum\n",
    "def constraint_function(x):\n",
    "    times = [from_energy_to_time(x_val,slope,d) for x_val,slope,d in zip(x,slopes,distances)]\n",
    "    return np.sum(times)\n",
    "\n",
    "# Define the inequality constraint (sum of g(x) must be less than A)\n",
    "def inequality_constraint(x):\n",
    "    return T_lim - constraint_function(x)\n",
    "\n",
    "\n",
    "\n",
    "# Set up the optimization problem with the inequality constraint\n",
    "constraints = [{'type': 'ineq', 'fun': inequality_constraint}]\n",
    "\n",
    "# Solve the optimization problem\n",
    "result = minimize(objective_function, energies, constraints=constraints, method='SLSQP')\n",
    "\n",
    "# Extract the optimized variables x\n",
    "optimized_x = result.x\n",
    "\n",
    "# Print the results\n",
    "print(\"Optimized Variables (x):\", optimized_x)\n",
    "print(\"Optimal Objective Value:\", result.fun)"
   ]
  },
  {
   "cell_type": "code",
   "execution_count": 54,
   "id": "865fe988",
   "metadata": {},
   "outputs": [
    {
     "data": {
      "text/plain": [
       "178.6045298568365"
      ]
     },
     "execution_count": 54,
     "metadata": {},
     "output_type": "execute_result"
    }
   ],
   "source": [
    "result.fun/T_lim"
   ]
  },
  {
   "cell_type": "code",
   "execution_count": 55,
   "id": "b3c8a2f4",
   "metadata": {},
   "outputs": [
    {
     "name": "stderr",
     "output_type": "stream",
     "text": [
      "/var/folders/b5/2zd3m6xj67g_xrc_3g6294wh0000gn/T/ipykernel_25586/2408303615.py:4: RuntimeWarning: invalid value encountered in scalar power\n",
      "  deltaT = d/np.sqrt(2) * (numerator/denominator)**0.5\n"
     ]
    }
   ],
   "source": [
    "opti_energy = optimized_x\n",
    "opti_time = [from_energy_to_time(energy,slope,d) for energy,slope,d in zip(opti_energy,slopes,distances)]\n",
    "opti_power = [energy/time for energy,time in zip(opti_energy,opti_time)]"
   ]
  },
  {
   "cell_type": "code",
   "execution_count": 56,
   "id": "1b011729",
   "metadata": {},
   "outputs": [
    {
     "name": "stdout",
     "output_type": "stream",
     "text": [
      "opti_Power    0.1\n",
      "dtype: float64 352.8027772746801\n",
      "20.227568200563347\n"
     ]
    },
    {
     "data": {
      "image/png": "[encoded data removed]",
      "text/plain": [
       "<Figure size 640x480 with 1 Axes>"
      ]
     },
     "metadata": {},
     "output_type": "display_data"
    }
   ],
   "source": [
    "opti_df['opti_Energy'] = opti_energy\n",
    "opti_df['opti_Time'] = opti_time\n",
    "opti_df['opti_Power'] = opti_power\n",
    "opti_df[['opti_Power']].plot()\n",
    "print(opti_df[['opti_Power']].idxmax(),opti_df.opti_Power.max())\n",
    "print(opti_df['opti_Time'].sum()/3600)"
   ]
  },
  {
   "cell_type": "code",
   "execution_count": null,
   "id": "52a5d483",
   "metadata": {},
   "outputs": [],
   "source": []
  },
  {
   "cell_type": "code",
   "execution_count": null,
   "id": "7bf15b6f",
   "metadata": {},
   "outputs": [],
   "source": []
  }
 ],
 "metadata": {
  "kernelspec": {
   "display_name": "Python 3 (ipykernel)",
   "language": "python",
   "name": "python3"
  },
  "language_info": {
   "codemirror_mode": {
    "name": "ipython",
    "version": 3
   },
   "file_extension": ".py",
   "mimetype": "text/x-python",
   "name": "python",
   "nbconvert_exporter": "python",
   "pygments_lexer": "ipython3",
   "version": "3.11.4"
  }
 },
 "nbformat": 4,
 "nbformat_minor": 5
}
