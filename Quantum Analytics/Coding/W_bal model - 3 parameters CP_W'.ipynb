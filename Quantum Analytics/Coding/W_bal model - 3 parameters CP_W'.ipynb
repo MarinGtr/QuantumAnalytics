{
 "cells": [
  {
   "cell_type": "markdown",
   "id": "04922435",
   "metadata": {},
   "source": [
    "## We consider the model CP_W' with 3 parameters\n",
    "- CP \n",
    "- W'\n",
    "- Pmax\n",
    "\n",
    "$$ t = \\frac{W’}{PO-CP} - \\frac{W'}{P_{max}- CP} $$\n",
    "\n",
    "$$ \\Longrightarrow t = \\frac{W’}{P-CP} * \\underbrace{\\frac{P_{max}-P}{P_{max}-CP}}_{=\\alpha(P)}$$\n",
    "\n",
    "$$ \\Longrightarrow t = \\frac{W’}{P-CP} * \\alpha(P)$$\n",
    "\n",
    "$$ \\Longrightarrow W' = \\frac{t*(P-CP)}{\\alpha(P)} \\hspace{2cm}  \\textbf{W' depletion}$$\n"
   ]
  },
  {
   "cell_type": "code",
   "execution_count": null,
   "id": "07be1b5e",
   "metadata": {},
   "outputs": [],
   "source": []
  }
 ],
 "metadata": {
  "kernelspec": {
   "display_name": "Python 3 (ipykernel)",
   "language": "python",
   "name": "python3"
  },
  "language_info": {
   "codemirror_mode": {
    "name": "ipython",
    "version": 3
   },
   "file_extension": ".py",
   "mimetype": "text/x-python",
   "name": "python",
   "nbconvert_exporter": "python",
   "pygments_lexer": "ipython3",
   "version": "3.11.4"
  }
 },
 "nbformat": 4,
 "nbformat_minor": 5
}
