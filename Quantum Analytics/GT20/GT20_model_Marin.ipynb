{
 "cells": [
  {
   "cell_type": "code",
   "execution_count": 19,
   "id": "34cde444",
   "metadata": {},
   "outputs": [],
   "source": [
    "import pandas as pd \n",
    "import seaborn as sns \n",
    "import numpy as np\n",
    "import matplotlib.pyplot as plt\n",
    "from scipy.optimize import minimize"
   ]
  },
  {
   "cell_type": "code",
   "execution_count": 20,
   "id": "593dff3d",
   "metadata": {},
   "outputs": [],
   "source": [
    "df = pd.read_csv(\"profilGT20.csv\",sep=\";\")"
   ]
  },
  {
   "cell_type": "code",
   "execution_count": 21,
   "id": "f7eca263",
   "metadata": {},
   "outputs": [],
   "source": [
    "df = df.rename(columns={\"0\": \"distance\", \"9.5\": \"altitude\"})\n",
    "df[\"slope\"] = (df[\"altitude\"].diff()/df['distance'].diff()).shift(-1)"
   ]
  },
  {
   "cell_type": "markdown",
   "id": "43ecd5db",
   "metadata": {},
   "source": [
    "## Data"
   ]
  },
  {
   "cell_type": "code",
   "execution_count": 22,
   "id": "9862674c",
   "metadata": {},
   "outputs": [],
   "source": [
    "g    = 9.81\n",
    "rho  = 1.23\n",
    "Crr  = 0.0025\n",
    "CdA  = 0.33\n",
    "loss = 0.02\n",
    "wind = 0\n",
    "M    = 72\n",
    "m    = 8\n",
    "\n",
    "plotOption = False"
   ]
  },
  {
   "cell_type": "code",
   "execution_count": 23,
   "id": "8c8b0635",
   "metadata": {},
   "outputs": [],
   "source": [
    "def get_gravity(slope,M):\n",
    "    return (M+m)*g*np.sin(np.arctan(slope))\n",
    "\n",
    "def get_rolling(slope,Crr):\n",
    "    return (M+m)*g*np.cos(np.arctan(slope))*Crr\n",
    "\n",
    "def get_aero(slope,CdA,v,wind):\n",
    "    return 0.5*CdA*rho*((v+wind)/3.6)**2\n",
    "\n"
   ]
  },
  {
   "cell_type": "code",
   "execution_count": 24,
   "id": "f7e7108d",
   "metadata": {},
   "outputs": [],
   "source": [
    "def get_P_from_v(v, slope, M, Crr, CdA, wind, loss):\n",
    "    gravity = get_gravity(slope,M)\n",
    "    rolling = get_rolling(slope,Crr)\n",
    "    aero    = get_aero(slope,CdA,v,wind)\n",
    "    forces  = gravity + rolling + aero\n",
    "    \n",
    "    if plotOption == True:\n",
    "        print('Gravity Power = ', np.round(gravity*v/3.6,2))\n",
    "        print('Rolling Power = ', np.round(rolling*v/3.6,2))\n",
    "        print('Aero Power = ', np.round(aero*v/3.6,2))\n",
    "\n",
    "    return forces*v/3.6*(1/(1-loss))\n",
    "\n",
    "def get_P_ratio_from_v(v, slope, M, Crr, CdA, wind, loss):\n",
    "    return get_P_from_v(v, slope, M, Crr, CdA, wind, loss) / M"
   ]
  },
  {
   "cell_type": "code",
   "execution_count": 25,
   "id": "dd84f8b9",
   "metadata": {
    "scrolled": true
   },
   "outputs": [
    {
     "data": {
      "text/plain": [
       "469.7648287963007"
      ]
     },
     "execution_count": 25,
     "metadata": {},
     "output_type": "execute_result"
    }
   ],
   "source": [
    "get_P_from_v(30,0.05,M,Crr, CdA, wind, loss)"
   ]
  },
  {
   "cell_type": "markdown",
   "id": "37643ba8",
   "metadata": {},
   "source": [
    "# Simulation of the Speed"
   ]
  },
  {
   "cell_type": "code",
   "execution_count": 26,
   "id": "127caf29",
   "metadata": {},
   "outputs": [],
   "source": [
    "def get_poly_function(x_array,y_array,degree):\n",
    "    coefficients = np.polyfit(slope_array, speed_array, degree)\n",
    "    poly_function = np.poly1d(coefficients)\n",
    "    return poly_function"
   ]
  },
  {
   "cell_type": "code",
   "execution_count": 27,
   "id": "2e94d1d5",
   "metadata": {},
   "outputs": [],
   "source": [
    "slope_array = [-0.1,0,0.05,0.1,0.15,0.34]\n",
    "speed_array = [50,34,21,16,9,6]\n",
    "degree = 2"
   ]
  },
  {
   "cell_type": "code",
   "execution_count": 28,
   "id": "d2334ae2",
   "metadata": {},
   "outputs": [],
   "source": [
    "#slope_array = [-0.1,0,0.05,0.1,0.15,0.34]\n",
    "#speed_array = [50,34,23,17,10,5]\n",
    "\n",
    "slope_array = [-0.1,0,0.05,0.1,0.15,0.20,.34]\n",
    "speed_array = [50,34,21,16,9,8,5]\n",
    "\n",
    "degree = 2"
   ]
  },
  {
   "cell_type": "code",
   "execution_count": 29,
   "id": "1515ddb0",
   "metadata": {},
   "outputs": [],
   "source": [
    "def from_slope_get_v(slope):\n",
    "    poly_function = get_poly_function(slope_array,speed_array,degree)\n",
    "    if slope < -0.1:\n",
    "        v = 50\n",
    "    else:\n",
    "        v = poly_function(slope)\n",
    "    return v\n"
   ]
  },
  {
   "cell_type": "code",
   "execution_count": null,
   "id": "63f128b9",
   "metadata": {},
   "outputs": [],
   "source": [
    "slopes = np.arange(-0.2,0.34,0.01)\n",
    "speed = [from_slope_get_v(slope) for slope in slopes]"
   ]
  },
  {
   "cell_type": "code",
   "execution_count": null,
   "id": "865798f6",
   "metadata": {},
   "outputs": [],
   "source": [
    "import matplotlib.pyplot as plt\n",
    "\n",
    "plt.scatter(slopes, speed, label='Data Points')\n",
    "plt.plot(slopes, speed, label='Fitted Polynomial', color='red')\n",
    "plt.legend()\n",
    "plt.grid()\n",
    "plt.xlabel('Slope')\n",
    "plt.ylabel('Speed')\n",
    "plt.title('Speed as a function of the Slope')\n",
    "plt.show()"
   ]
  },
  {
   "cell_type": "code",
   "execution_count": null,
   "id": "70b92260",
   "metadata": {},
   "outputs": [],
   "source": [
    "df.head()"
   ]
  },
  {
   "cell_type": "markdown",
   "id": "47ef1ac5",
   "metadata": {},
   "source": [
    "## Get the Average Power"
   ]
  },
  {
   "cell_type": "code",
   "execution_count": null,
   "id": "1701524d",
   "metadata": {},
   "outputs": [],
   "source": [
    "df['Speed']  = df['slope'].apply(from_slope_get_v)\n",
    "df['dist'] = df['distance'].diff().shift(-1)\n",
    "df['deltaT'] = (df['dist']*3.6)/df['Speed']\n",
    "df['Power']  = df.apply(lambda x: get_P_from_v(x.Speed,x.slope,M,Crr, CdA, wind, loss), axis = 1)\n",
    "df['Power']  = np.maximum(0,df['Power'])\n",
    "df['Energy'] = df['deltaT']*df['Power']"
   ]
  },
  {
   "cell_type": "code",
   "execution_count": null,
   "id": "91ddfd2b",
   "metadata": {},
   "outputs": [],
   "source": [
    "avg_power = (df.Power*df.deltaT).sum()/df.deltaT.sum()\n",
    "tot_time  = df.deltaT.sum()\n",
    "print('Avg_Watts = ',avg_power)\n",
    "print('Tot_time = ',tot_time/3600)"
   ]
  },
  {
   "cell_type": "markdown",
   "id": "5704633a",
   "metadata": {},
   "source": [
    "#### Get the Power as function of Slope"
   ]
  },
  {
   "cell_type": "code",
   "execution_count": 21,
   "id": "2b335a64",
   "metadata": {},
   "outputs": [
    {
     "data": {
      "text/plain": [
       "<Axes: xlabel='approx_slope'>"
      ]
     },
     "execution_count": 21,
     "metadata": {},
     "output_type": "execute_result"
    },
    {
     "data": {
      "image/png": "[encoded data removed]",
      "text/plain": [
       "<Figure size 640x480 with 1 Axes>"
      ]
     },
     "metadata": {},
     "output_type": "display_data"
    }
   ],
   "source": [
    "df['approx_slope'] = np.round(df['slope'],2)\n",
    "reduced_df = df[['approx_slope','Power']].groupby('approx_slope').mean()\n",
    "reduced_df.plot()"
   ]
  },
  {
   "cell_type": "markdown",
   "id": "9ec54eb5",
   "metadata": {},
   "source": [
    "## Analysis of the extreme slopes"
   ]
  },
  {
   "cell_type": "code",
   "execution_count": 22,
   "id": "f8435b66",
   "metadata": {},
   "outputs": [
    {
     "data": {
      "image/png": "[encoded data removed]",
      "text/plain": [
       "<Figure size 640x480 with 1 Axes>"
      ]
     },
     "metadata": {},
     "output_type": "display_data"
    }
   ],
   "source": [
    "df.loc[np.abs(df['slope'])>0.2]['slope'].plot(kind='hist', bins=25, edgecolor='k')\n",
    "plt.xlabel('Slope')\n",
    "plt.ylabel('Frequency')\n",
    "plt.title('Slope Distribution')\n",
    "plt.show()"
   ]
  },
  {
   "cell_type": "code",
   "execution_count": 23,
   "id": "0ec42a4c",
   "metadata": {},
   "outputs": [
    {
     "data": {
      "text/html": [
       "<div>\n",
       "<style scoped>\n",
       "    .dataframe tbody tr th:only-of-type {\n",
       "        vertical-align: middle;\n",
       "    }\n",
       "\n",
       "    .dataframe tbody tr th {\n",
       "        vertical-align: top;\n",
       "    }\n",
       "\n",
       "    .dataframe thead th {\n",
       "        text-align: right;\n",
       "    }\n",
       "</style>\n",
       "<table border=\"1\" class=\"dataframe\">\n",
       "  <thead>\n",
       "    <tr style=\"text-align: right;\">\n",
       "      <th></th>\n",
       "      <th>distance</th>\n",
       "      <th>altitude</th>\n",
       "      <th>slope</th>\n",
       "      <th>Speed</th>\n",
       "      <th>deltaT</th>\n",
       "      <th>Power</th>\n",
       "      <th>Energy</th>\n",
       "    </tr>\n",
       "  </thead>\n",
       "  <tbody>\n",
       "    <tr>\n",
       "      <th>1374</th>\n",
       "      <td>48452</td>\n",
       "      <td>341.2</td>\n",
       "      <td>-0.258333</td>\n",
       "      <td>50.000000</td>\n",
       "      <td>0.864000</td>\n",
       "      <td>0.000000</td>\n",
       "      <td>0.000000</td>\n",
       "    </tr>\n",
       "    <tr>\n",
       "      <th>1387</th>\n",
       "      <td>49017</td>\n",
       "      <td>309.6</td>\n",
       "      <td>-0.200000</td>\n",
       "      <td>50.000000</td>\n",
       "      <td>0.792000</td>\n",
       "      <td>0.000000</td>\n",
       "      <td>0.000000</td>\n",
       "    </tr>\n",
       "    <tr>\n",
       "      <th>1480</th>\n",
       "      <td>52012</td>\n",
       "      <td>170.2</td>\n",
       "      <td>-0.260000</td>\n",
       "      <td>50.000000</td>\n",
       "      <td>0.720000</td>\n",
       "      <td>0.000000</td>\n",
       "      <td>0.000000</td>\n",
       "    </tr>\n",
       "    <tr>\n",
       "      <th>1673</th>\n",
       "      <td>57561</td>\n",
       "      <td>104.1</td>\n",
       "      <td>0.209091</td>\n",
       "      <td>7.376192</td>\n",
       "      <td>5.368624</td>\n",
       "      <td>337.368226</td>\n",
       "      <td>1811.203049</td>\n",
       "    </tr>\n",
       "    <tr>\n",
       "      <th>1733</th>\n",
       "      <td>59265</td>\n",
       "      <td>183.8</td>\n",
       "      <td>0.209091</td>\n",
       "      <td>7.376192</td>\n",
       "      <td>5.368624</td>\n",
       "      <td>337.368226</td>\n",
       "      <td>1811.203049</td>\n",
       "    </tr>\n",
       "  </tbody>\n",
       "</table>\n",
       "</div>"
      ],
      "text/plain": [
       "      distance  altitude     slope      Speed    deltaT       Power  \\\n",
       "1374     48452     341.2 -0.258333  50.000000  0.864000    0.000000   \n",
       "1387     49017     309.6 -0.200000  50.000000  0.792000    0.000000   \n",
       "1480     52012     170.2 -0.260000  50.000000  0.720000    0.000000   \n",
       "1673     57561     104.1  0.209091   7.376192  5.368624  337.368226   \n",
       "1733     59265     183.8  0.209091   7.376192  5.368624  337.368226   \n",
       "\n",
       "           Energy  \n",
       "1374     0.000000  \n",
       "1387     0.000000  \n",
       "1480     0.000000  \n",
       "1673  1811.203049  \n",
       "1733  1811.203049  "
      ]
     },
     "execution_count": 23,
     "metadata": {},
     "output_type": "execute_result"
    }
   ],
   "source": [
    "df.loc[np.abs(df['slope'])>0.2].head()"
   ]
  },
  {
   "cell_type": "markdown",
   "id": "cc097794",
   "metadata": {},
   "source": [
    "## Get normalized Power"
   ]
  },
  {
   "cell_type": "code",
   "execution_count": 72,
   "id": "e3dc2d1a",
   "metadata": {},
   "outputs": [],
   "source": [
    "def get_normalized_power(df, column = 'Power'):\n",
    "    return (np.mean(df[column].rolling(3).mean()**4))**(1/4)"
   ]
  },
  {
   "cell_type": "code",
   "execution_count": 73,
   "id": "a1efa362",
   "metadata": {},
   "outputs": [
    {
     "data": {
      "text/plain": [
       "241.13807578329332"
      ]
     },
     "execution_count": 73,
     "metadata": {},
     "output_type": "execute_result"
    }
   ],
   "source": [
    "get_normalized_power(df)"
   ]
  },
  {
   "cell_type": "markdown",
   "id": "7b766e11",
   "metadata": {},
   "source": [
    "# Optimization of the Energy"
   ]
  },
  {
   "cell_type": "code",
   "execution_count": 17,
   "id": "6bdc8779",
   "metadata": {},
   "outputs": [
    {
     "data": {
      "text/html": [
       "<div>\n",
       "<style scoped>\n",
       "    .dataframe tbody tr th:only-of-type {\n",
       "        vertical-align: middle;\n",
       "    }\n",
       "\n",
       "    .dataframe tbody tr th {\n",
       "        vertical-align: top;\n",
       "    }\n",
       "\n",
       "    .dataframe thead th {\n",
       "        text-align: right;\n",
       "    }\n",
       "</style>\n",
       "<table border=\"1\" class=\"dataframe\">\n",
       "  <thead>\n",
       "    <tr style=\"text-align: right;\">\n",
       "      <th></th>\n",
       "      <th>distance</th>\n",
       "      <th>altitude</th>\n",
       "      <th>slope</th>\n",
       "    </tr>\n",
       "  </thead>\n",
       "  <tbody>\n",
       "    <tr>\n",
       "      <th>0</th>\n",
       "      <td>85</td>\n",
       "      <td>9.3</td>\n",
       "      <td>-0.003488</td>\n",
       "    </tr>\n",
       "    <tr>\n",
       "      <th>1</th>\n",
       "      <td>171</td>\n",
       "      <td>9.0</td>\n",
       "      <td>-0.009091</td>\n",
       "    </tr>\n",
       "    <tr>\n",
       "      <th>2</th>\n",
       "      <td>193</td>\n",
       "      <td>8.8</td>\n",
       "      <td>-0.020000</td>\n",
       "    </tr>\n",
       "    <tr>\n",
       "      <th>3</th>\n",
       "      <td>208</td>\n",
       "      <td>8.5</td>\n",
       "      <td>-0.037500</td>\n",
       "    </tr>\n",
       "    <tr>\n",
       "      <th>4</th>\n",
       "      <td>224</td>\n",
       "      <td>7.9</td>\n",
       "      <td>-0.023077</td>\n",
       "    </tr>\n",
       "  </tbody>\n",
       "</table>\n",
       "</div>"
      ],
      "text/plain": [
       "   distance  altitude     slope\n",
       "0        85       9.3 -0.003488\n",
       "1       171       9.0 -0.009091\n",
       "2       193       8.8 -0.020000\n",
       "3       208       8.5 -0.037500\n",
       "4       224       7.9 -0.023077"
      ]
     },
     "execution_count": 17,
     "metadata": {},
     "output_type": "execute_result"
    }
   ],
   "source": [
    "df.head()"
   ]
  },
  {
   "cell_type": "markdown",
   "id": "6125a045",
   "metadata": {},
   "source": [
    "# Step 1 : Simplify the profile"
   ]
  },
  {
   "cell_type": "code",
   "execution_count": 18,
   "id": "2a339d85",
   "metadata": {},
   "outputs": [
    {
     "ename": "KeyError",
     "evalue": "\"['dist', 'Energy'] not in index\"",
     "output_type": "error",
     "traceback": [
      "\u001b[0;31m---------------------------------------------------------------------------\u001b[0m",
      "\u001b[0;31mKeyError\u001b[0m                                  Traceback (most recent call last)",
      "Cell \u001b[0;32mIn[18], line 1\u001b[0m\n\u001b[0;32m----> 1\u001b[0m opti_df \u001b[38;5;241m=\u001b[39m df[[\u001b[38;5;124m'\u001b[39m\u001b[38;5;124mslope\u001b[39m\u001b[38;5;124m'\u001b[39m,\u001b[38;5;124m'\u001b[39m\u001b[38;5;124mdist\u001b[39m\u001b[38;5;124m'\u001b[39m,\u001b[38;5;124m'\u001b[39m\u001b[38;5;124mEnergy\u001b[39m\u001b[38;5;124m'\u001b[39m]]\u001b[38;5;241m.\u001b[39mcopy()\n\u001b[1;32m      2\u001b[0m opti_df[\u001b[38;5;124m'\u001b[39m\u001b[38;5;124mapprox_slope\u001b[39m\u001b[38;5;124m'\u001b[39m] \u001b[38;5;241m=\u001b[39m np\u001b[38;5;241m.\u001b[39mround(opti_df[\u001b[38;5;124m'\u001b[39m\u001b[38;5;124mslope\u001b[39m\u001b[38;5;124m'\u001b[39m],\u001b[38;5;241m2\u001b[39m)\n\u001b[1;32m      3\u001b[0m opti_df \u001b[38;5;241m=\u001b[39m opti_df[[\u001b[38;5;124m'\u001b[39m\u001b[38;5;124mapprox_slope\u001b[39m\u001b[38;5;124m'\u001b[39m,\u001b[38;5;124m'\u001b[39m\u001b[38;5;124mdist\u001b[39m\u001b[38;5;124m'\u001b[39m,\u001b[38;5;124m'\u001b[39m\u001b[38;5;124mEnergy\u001b[39m\u001b[38;5;124m'\u001b[39m]]\u001b[38;5;241m.\u001b[39mgroupby(\u001b[38;5;124m'\u001b[39m\u001b[38;5;124mapprox_slope\u001b[39m\u001b[38;5;124m'\u001b[39m)\u001b[38;5;241m.\u001b[39msum()\n",
      "File \u001b[0;32m~/anaconda3/lib/python3.11/site-packages/pandas/core/frame.py:3813\u001b[0m, in \u001b[0;36mDataFrame.__getitem__\u001b[0;34m(self, key)\u001b[0m\n\u001b[1;32m   3811\u001b[0m     \u001b[38;5;28;01mif\u001b[39;00m is_iterator(key):\n\u001b[1;32m   3812\u001b[0m         key \u001b[38;5;241m=\u001b[39m \u001b[38;5;28mlist\u001b[39m(key)\n\u001b[0;32m-> 3813\u001b[0m     indexer \u001b[38;5;241m=\u001b[39m \u001b[38;5;28mself\u001b[39m\u001b[38;5;241m.\u001b[39mcolumns\u001b[38;5;241m.\u001b[39m_get_indexer_strict(key, \u001b[38;5;124m\"\u001b[39m\u001b[38;5;124mcolumns\u001b[39m\u001b[38;5;124m\"\u001b[39m)[\u001b[38;5;241m1\u001b[39m]\n\u001b[1;32m   3815\u001b[0m \u001b[38;5;66;03m# take() does not accept boolean indexers\u001b[39;00m\n\u001b[1;32m   3816\u001b[0m \u001b[38;5;28;01mif\u001b[39;00m \u001b[38;5;28mgetattr\u001b[39m(indexer, \u001b[38;5;124m\"\u001b[39m\u001b[38;5;124mdtype\u001b[39m\u001b[38;5;124m\"\u001b[39m, \u001b[38;5;28;01mNone\u001b[39;00m) \u001b[38;5;241m==\u001b[39m \u001b[38;5;28mbool\u001b[39m:\n",
      "File \u001b[0;32m~/anaconda3/lib/python3.11/site-packages/pandas/core/indexes/base.py:6070\u001b[0m, in \u001b[0;36mIndex._get_indexer_strict\u001b[0;34m(self, key, axis_name)\u001b[0m\n\u001b[1;32m   6067\u001b[0m \u001b[38;5;28;01melse\u001b[39;00m:\n\u001b[1;32m   6068\u001b[0m     keyarr, indexer, new_indexer \u001b[38;5;241m=\u001b[39m \u001b[38;5;28mself\u001b[39m\u001b[38;5;241m.\u001b[39m_reindex_non_unique(keyarr)\n\u001b[0;32m-> 6070\u001b[0m \u001b[38;5;28mself\u001b[39m\u001b[38;5;241m.\u001b[39m_raise_if_missing(keyarr, indexer, axis_name)\n\u001b[1;32m   6072\u001b[0m keyarr \u001b[38;5;241m=\u001b[39m \u001b[38;5;28mself\u001b[39m\u001b[38;5;241m.\u001b[39mtake(indexer)\n\u001b[1;32m   6073\u001b[0m \u001b[38;5;28;01mif\u001b[39;00m \u001b[38;5;28misinstance\u001b[39m(key, Index):\n\u001b[1;32m   6074\u001b[0m     \u001b[38;5;66;03m# GH 42790 - Preserve name from an Index\u001b[39;00m\n",
      "File \u001b[0;32m~/anaconda3/lib/python3.11/site-packages/pandas/core/indexes/base.py:6133\u001b[0m, in \u001b[0;36mIndex._raise_if_missing\u001b[0;34m(self, key, indexer, axis_name)\u001b[0m\n\u001b[1;32m   6130\u001b[0m     \u001b[38;5;28;01mraise\u001b[39;00m \u001b[38;5;167;01mKeyError\u001b[39;00m(\u001b[38;5;124mf\u001b[39m\u001b[38;5;124m\"\u001b[39m\u001b[38;5;124mNone of [\u001b[39m\u001b[38;5;132;01m{\u001b[39;00mkey\u001b[38;5;132;01m}\u001b[39;00m\u001b[38;5;124m] are in the [\u001b[39m\u001b[38;5;132;01m{\u001b[39;00maxis_name\u001b[38;5;132;01m}\u001b[39;00m\u001b[38;5;124m]\u001b[39m\u001b[38;5;124m\"\u001b[39m)\n\u001b[1;32m   6132\u001b[0m not_found \u001b[38;5;241m=\u001b[39m \u001b[38;5;28mlist\u001b[39m(ensure_index(key)[missing_mask\u001b[38;5;241m.\u001b[39mnonzero()[\u001b[38;5;241m0\u001b[39m]]\u001b[38;5;241m.\u001b[39munique())\n\u001b[0;32m-> 6133\u001b[0m \u001b[38;5;28;01mraise\u001b[39;00m \u001b[38;5;167;01mKeyError\u001b[39;00m(\u001b[38;5;124mf\u001b[39m\u001b[38;5;124m\"\u001b[39m\u001b[38;5;132;01m{\u001b[39;00mnot_found\u001b[38;5;132;01m}\u001b[39;00m\u001b[38;5;124m not in index\u001b[39m\u001b[38;5;124m\"\u001b[39m)\n",
      "\u001b[0;31mKeyError\u001b[0m: \"['dist', 'Energy'] not in index\""
     ]
    }
   ],
   "source": [
    "opti_df = df[['slope','dist','Energy']].copy()\n",
    "opti_df['approx_slope'] = np.round(opti_df['slope'],2)\n",
    "opti_df = opti_df[['approx_slope','dist','Energy']].groupby('approx_slope').sum()\n",
    "opti_df"
   ]
  },
  {
   "cell_type": "code",
   "execution_count": 24,
   "id": "f2cc6606",
   "metadata": {},
   "outputs": [],
   "source": [
    "distances = opti_df['dist']\n",
    "energies  = opti_df['Energy']\n",
    "slopes    = opti_df.index\n",
    "\n",
    "T_lim     = 20*3600\n",
    "N         = len(distances)"
   ]
  },
  {
   "cell_type": "code",
   "execution_count": 25,
   "id": "1b7a5903",
   "metadata": {},
   "outputs": [],
   "source": [
    "def from_energy_to_time(energy,slope,d):\n",
    "    numerator   = M+m+rho*CdA*d\n",
    "    denominator = (1-loss)*energy - (M+m)*g*d*(np.sin(slope)+Crr*np.cos(slope))\n",
    "    deltaT = d/np.sqrt(2) * (numerator/denominator)**0.5\n",
    "    return deltaT"
   ]
  },
  {
   "cell_type": "code",
   "execution_count": 26,
   "id": "960b842a",
   "metadata": {},
   "outputs": [
    {
     "name": "stdout",
     "output_type": "stream",
     "text": [
      "Optimized Variables (x): [      0.               0.               0.               0.\n",
      "       0.               0.               0.               0.\n",
      "       0.               0.               0.               0.\n",
      "       0.               0.               0.               0.\n",
      "       0.               0.               0.               0.\n",
      "       0.               0.               0.               0.\n",
      "       0.               0.               0.               0.\n",
      "       0.               0.               0.               0.\n",
      "       0.               0.           14409.30518524  237632.95110087\n",
      "  516613.84938266 1358606.89451252 1335436.93785568 1433583.35975009\n",
      " 1533357.71306286 1475918.40084776 1206865.09395425  946069.83271291\n",
      "  728878.00143018  536396.25767104  387773.87264145  319182.7170556\n",
      "  242736.06796158  155535.30482769  118869.74617062   78943.6236221\n",
      "   64961.11352184   38354.38816867   29607.50986024   24327.01360053\n",
      "   16200.77037032    9910.05625119   13625.15193793    7538.14885268\n",
      "    7045.47710687    6945.22515358    2110.08875603    2181.62449125\n",
      "    2695.32589384    2996.99530255    2901.42287364]\n",
      "Optimal Objective Value: 12858210.241886247\n"
     ]
    },
    {
     "name": "stderr",
     "output_type": "stream",
     "text": [
      "C:\\Users\\marin\\AppData\\Local\\Temp\\ipykernel_129896\\2408303615.py:4: RuntimeWarning: invalid value encountered in scalar power\n",
      "  deltaT = d/np.sqrt(2) * (numerator/denominator)**0.5\n"
     ]
    }
   ],
   "source": [
    "# Define the objective function to minimize (sum of variables x)\n",
    "def objective_function(x):\n",
    "    return np.sum(x)\n",
    "\n",
    "# Define the constraint function g(x) and its sum\n",
    "def constraint_function(x):\n",
    "    times = [from_energy_to_time(x_val,slope,d) for x_val,slope,d in zip(x,slopes,distances)]\n",
    "    return np.sum(times)\n",
    "\n",
    "# Define the inequality constraint (sum of g(x) must be less than A)\n",
    "def inequality_constraint(x):\n",
    "    return T_lim - constraint_function(x)\n",
    "\n",
    "\n",
    "\n",
    "# Set up the optimization problem with the inequality constraint\n",
    "constraints = [{'type': 'ineq', 'fun': inequality_constraint}]\n",
    "\n",
    "# Solve the optimization problem\n",
    "result = minimize(objective_function, energies, constraints=constraints, method='SLSQP')\n",
    "\n",
    "# Extract the optimized variables x\n",
    "optimized_x = result.x\n",
    "\n",
    "# Print the results\n",
    "print(\"Optimized Variables (x):\", optimized_x)\n",
    "print(\"Optimal Objective Value:\", result.fun)"
   ]
  },
  {
   "cell_type": "code",
   "execution_count": 27,
   "id": "865fe988",
   "metadata": {},
   "outputs": [
    {
     "data": {
      "text/plain": [
       "178.5862533595312"
      ]
     },
     "execution_count": 27,
     "metadata": {},
     "output_type": "execute_result"
    }
   ],
   "source": [
    "result.fun/T_lim"
   ]
  },
  {
   "cell_type": "code",
   "execution_count": 28,
   "id": "b3c8a2f4",
   "metadata": {},
   "outputs": [
    {
     "name": "stderr",
     "output_type": "stream",
     "text": [
      "C:\\Users\\marin\\AppData\\Local\\Temp\\ipykernel_129896\\2408303615.py:4: RuntimeWarning: invalid value encountered in scalar power\n",
      "  deltaT = d/np.sqrt(2) * (numerator/denominator)**0.5\n"
     ]
    }
   ],
   "source": [
    "opti_energy = optimized_x\n",
    "opti_time = [from_energy_to_time(energy,slope,d) for energy,slope,d in zip(opti_energy,slopes,distances)]\n",
    "opti_power = [energy/time for energy,time in zip(opti_energy,opti_time)]"
   ]
  },
  {
   "cell_type": "code",
   "execution_count": 29,
   "id": "1b011729",
   "metadata": {},
   "outputs": [
    {
     "name": "stdout",
     "output_type": "stream",
     "text": [
      "opti_Power    0.1\n",
      "dtype: float64 352.8027772746801\n",
      "20.22465673800891\n"
     ]
    },
    {
     "data": {
      "image/png": "[encoded data removed]",
      "text/plain": [
       "<Figure size 640x480 with 1 Axes>"
      ]
     },
     "metadata": {},
     "output_type": "display_data"
    }
   ],
   "source": [
    "opti_df['opti_Energy'] = opti_energy\n",
    "opti_df['opti_Time'] = opti_time\n",
    "opti_df['opti_Power'] = opti_power\n",
    "opti_df[['opti_Power']].plot()\n",
    "print(opti_df[['opti_Power']].idxmax(),opti_df.opti_Power.max())\n",
    "print(opti_df['opti_Time'].sum()/3600)"
   ]
  },
  {
   "cell_type": "code",
   "execution_count": null,
   "id": "52a5d483",
   "metadata": {},
   "outputs": [],
   "source": []
  },
  {
   "cell_type": "code",
   "execution_count": null,
   "id": "7bf15b6f",
   "metadata": {},
   "outputs": [],
   "source": []
  }
 ],
 "metadata": {
  "kernelspec": {
   "display_name": "Python 3 (ipykernel)",
   "language": "python",
   "name": "python3"
  },
  "language_info": {
   "codemirror_mode": {
    "name": "ipython",
    "version": 3
   },
   "file_extension": ".py",
   "mimetype": "text/x-python",
   "name": "python",
   "nbconvert_exporter": "python",
   "pygments_lexer": "ipython3",
   "version": "3.11.4"
  }
 },
 "nbformat": 4,
 "nbformat_minor": 5
}
